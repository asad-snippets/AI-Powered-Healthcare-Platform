{
 "cells": [
  {
   "cell_type": "code",
   "execution_count": 2,
   "id": "08233068",
   "metadata": {},
   "outputs": [
    {
     "name": "stdout",
     "output_type": "stream",
     "text": [
      "Done! realistic_training_with_all_features.csv now has all 133 features.\n"
     ]
    }
   ],
   "source": [
    "import pandas as pd\n",
    "\n",
    "# 1. Read both CSVs\n",
    "train = pd.read_csv('training.csv')\n",
    "real = pd.read_csv('realistic_training.csv')\n",
    "\n",
    "# 2. Copy the missing column over\n",
    "missing_col = 'fluid_overload'  # replace with the actual column name\n",
    "real[missing_col] = train[missing_col]\n",
    "\n",
    "# 3. (Optional) Reorder so it matches train exactly\n",
    "cols = list(train.columns)\n",
    "real = real[cols]\n",
    "\n",
    "# 4. Save back out\n",
    "real.to_csv('realistic_training_with_all_features.csv', index=False)\n",
    "print(\"Done! realistic_training_with_all_features.csv now has all 133 features.\")\n"
   ]
  }
 ],
 "metadata": {
  "kernelspec": {
   "display_name": "venv",
   "language": "python",
   "name": "python3"
  },
  "language_info": {
   "codemirror_mode": {
    "name": "ipython",
    "version": 3
   },
   "file_extension": ".py",
   "mimetype": "text/x-python",
   "name": "python",
   "nbconvert_exporter": "python",
   "pygments_lexer": "ipython3",
   "version": "3.13.5"
  }
 },
 "nbformat": 4,
 "nbformat_minor": 5
}
