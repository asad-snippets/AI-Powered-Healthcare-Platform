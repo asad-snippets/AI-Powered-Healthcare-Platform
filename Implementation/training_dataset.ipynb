{
 "cells": [
  {
   "cell_type": "markdown",
   "metadata": {},
   "source": [
    "Import Libraries"
   ]
  },
  {
   "cell_type": "code",
   "execution_count": 5,
   "metadata": {},
   "outputs": [],
   "source": [
    "import pandas as pd\n",
    "import numpy as np\n",
    "from sklearn.model_selection import train_test_split\n",
    "from sklearn.preprocessing import LabelEncoder\n",
    "from sklearn.datasets import make_classification\n",
    "from sklearn.svm import SVC\n"
   ]
  },
  {
   "cell_type": "markdown",
   "metadata": {},
   "source": [
    "Read the data set"
   ]
  },
  {
   "cell_type": "code",
   "execution_count": 6,
   "metadata": {},
   "outputs": [],
   "source": [
    "data = pd.read_csv(\"realistic_training.csv\")"
   ]
  },
  {
   "cell_type": "code",
   "execution_count": 7,
   "metadata": {},
   "outputs": [
    {
     "data": {
      "text/html": [
       "<div>\n",
       "<style scoped>\n",
       "    .dataframe tbody tr th:only-of-type {\n",
       "        vertical-align: middle;\n",
       "    }\n",
       "\n",
       "    .dataframe tbody tr th {\n",
       "        vertical-align: top;\n",
       "    }\n",
       "\n",
       "    .dataframe thead th {\n",
       "        text-align: right;\n",
       "    }\n",
       "</style>\n",
       "<table border=\"1\" class=\"dataframe\">\n",
       "  <thead>\n",
       "    <tr style=\"text-align: right;\">\n",
       "      <th></th>\n",
       "      <th>itching</th>\n",
       "      <th>skin_rash</th>\n",
       "      <th>nodal_skin_eruptions</th>\n",
       "      <th>continuous_sneezing</th>\n",
       "      <th>shivering</th>\n",
       "      <th>chills</th>\n",
       "      <th>joint_pain</th>\n",
       "      <th>stomach_pain</th>\n",
       "      <th>acidity</th>\n",
       "      <th>ulcers_on_tongue</th>\n",
       "      <th>...</th>\n",
       "      <th>blackheads</th>\n",
       "      <th>scurring</th>\n",
       "      <th>skin_peeling</th>\n",
       "      <th>silver_like_dusting</th>\n",
       "      <th>small_dents_in_nails</th>\n",
       "      <th>inflammatory_nails</th>\n",
       "      <th>blister</th>\n",
       "      <th>red_sore_around_nose</th>\n",
       "      <th>yellow_crust_ooze</th>\n",
       "      <th>prognosis</th>\n",
       "    </tr>\n",
       "  </thead>\n",
       "  <tbody>\n",
       "    <tr>\n",
       "      <th>0</th>\n",
       "      <td>0</td>\n",
       "      <td>0</td>\n",
       "      <td>0</td>\n",
       "      <td>0</td>\n",
       "      <td>0</td>\n",
       "      <td>0</td>\n",
       "      <td>1</td>\n",
       "      <td>0</td>\n",
       "      <td>0</td>\n",
       "      <td>0</td>\n",
       "      <td>...</td>\n",
       "      <td>0</td>\n",
       "      <td>0</td>\n",
       "      <td>0</td>\n",
       "      <td>0</td>\n",
       "      <td>0</td>\n",
       "      <td>0</td>\n",
       "      <td>0</td>\n",
       "      <td>0</td>\n",
       "      <td>0</td>\n",
       "      <td>Arthritis</td>\n",
       "    </tr>\n",
       "    <tr>\n",
       "      <th>1</th>\n",
       "      <td>0</td>\n",
       "      <td>0</td>\n",
       "      <td>0</td>\n",
       "      <td>0</td>\n",
       "      <td>0</td>\n",
       "      <td>0</td>\n",
       "      <td>0</td>\n",
       "      <td>0</td>\n",
       "      <td>0</td>\n",
       "      <td>0</td>\n",
       "      <td>...</td>\n",
       "      <td>0</td>\n",
       "      <td>0</td>\n",
       "      <td>0</td>\n",
       "      <td>0</td>\n",
       "      <td>0</td>\n",
       "      <td>0</td>\n",
       "      <td>0</td>\n",
       "      <td>0</td>\n",
       "      <td>0</td>\n",
       "      <td>Hypothyroidism</td>\n",
       "    </tr>\n",
       "    <tr>\n",
       "      <th>2</th>\n",
       "      <td>0</td>\n",
       "      <td>0</td>\n",
       "      <td>0</td>\n",
       "      <td>1</td>\n",
       "      <td>0</td>\n",
       "      <td>1</td>\n",
       "      <td>0</td>\n",
       "      <td>0</td>\n",
       "      <td>0</td>\n",
       "      <td>0</td>\n",
       "      <td>...</td>\n",
       "      <td>0</td>\n",
       "      <td>0</td>\n",
       "      <td>0</td>\n",
       "      <td>0</td>\n",
       "      <td>0</td>\n",
       "      <td>0</td>\n",
       "      <td>0</td>\n",
       "      <td>0</td>\n",
       "      <td>0</td>\n",
       "      <td>Common Cold</td>\n",
       "    </tr>\n",
       "    <tr>\n",
       "      <th>3</th>\n",
       "      <td>0</td>\n",
       "      <td>0</td>\n",
       "      <td>0</td>\n",
       "      <td>0</td>\n",
       "      <td>0</td>\n",
       "      <td>0</td>\n",
       "      <td>0</td>\n",
       "      <td>0</td>\n",
       "      <td>0</td>\n",
       "      <td>0</td>\n",
       "      <td>...</td>\n",
       "      <td>0</td>\n",
       "      <td>0</td>\n",
       "      <td>0</td>\n",
       "      <td>0</td>\n",
       "      <td>0</td>\n",
       "      <td>0</td>\n",
       "      <td>0</td>\n",
       "      <td>0</td>\n",
       "      <td>0</td>\n",
       "      <td>Hyperthyroidism</td>\n",
       "    </tr>\n",
       "    <tr>\n",
       "      <th>4</th>\n",
       "      <td>0</td>\n",
       "      <td>0</td>\n",
       "      <td>0</td>\n",
       "      <td>0</td>\n",
       "      <td>0</td>\n",
       "      <td>0</td>\n",
       "      <td>0</td>\n",
       "      <td>0</td>\n",
       "      <td>0</td>\n",
       "      <td>0</td>\n",
       "      <td>...</td>\n",
       "      <td>0</td>\n",
       "      <td>0</td>\n",
       "      <td>0</td>\n",
       "      <td>0</td>\n",
       "      <td>0</td>\n",
       "      <td>0</td>\n",
       "      <td>0</td>\n",
       "      <td>0</td>\n",
       "      <td>0</td>\n",
       "      <td>Heart attack</td>\n",
       "    </tr>\n",
       "  </tbody>\n",
       "</table>\n",
       "<p>5 rows × 133 columns</p>\n",
       "</div>"
      ],
      "text/plain": [
       "   itching  skin_rash  nodal_skin_eruptions  continuous_sneezing  shivering  \\\n",
       "0        0          0                     0                    0          0   \n",
       "1        0          0                     0                    0          0   \n",
       "2        0          0                     0                    1          0   \n",
       "3        0          0                     0                    0          0   \n",
       "4        0          0                     0                    0          0   \n",
       "\n",
       "   chills  joint_pain  stomach_pain  acidity  ulcers_on_tongue  ...  \\\n",
       "0       0           1             0        0                 0  ...   \n",
       "1       0           0             0        0                 0  ...   \n",
       "2       1           0             0        0                 0  ...   \n",
       "3       0           0             0        0                 0  ...   \n",
       "4       0           0             0        0                 0  ...   \n",
       "\n",
       "   blackheads  scurring  skin_peeling  silver_like_dusting  \\\n",
       "0           0         0             0                    0   \n",
       "1           0         0             0                    0   \n",
       "2           0         0             0                    0   \n",
       "3           0         0             0                    0   \n",
       "4           0         0             0                    0   \n",
       "\n",
       "   small_dents_in_nails  inflammatory_nails  blister  red_sore_around_nose  \\\n",
       "0                     0                   0        0                     0   \n",
       "1                     0                   0        0                     0   \n",
       "2                     0                   0        0                     0   \n",
       "3                     0                   0        0                     0   \n",
       "4                     0                   0        0                     0   \n",
       "\n",
       "   yellow_crust_ooze        prognosis  \n",
       "0                  0        Arthritis  \n",
       "1                  0   Hypothyroidism  \n",
       "2                  0      Common Cold  \n",
       "3                  0  Hyperthyroidism  \n",
       "4                  0     Heart attack  \n",
       "\n",
       "[5 rows x 133 columns]"
      ]
     },
     "execution_count": 7,
     "metadata": {},
     "output_type": "execute_result"
    }
   ],
   "source": [
    "data.head()"
   ]
  },
  {
   "cell_type": "code",
   "execution_count": 8,
   "metadata": {},
   "outputs": [
    {
     "data": {
      "text/plain": [
       "(1000, 133)"
      ]
     },
     "execution_count": 8,
     "metadata": {},
     "output_type": "execute_result"
    }
   ],
   "source": [
    "data.shape\n"
   ]
  },
  {
   "cell_type": "code",
   "execution_count": 9,
   "metadata": {},
   "outputs": [],
   "source": [
    "data = data.dropna(axis=0, how='any')"
   ]
  },
  {
   "cell_type": "code",
   "execution_count": 10,
   "metadata": {},
   "outputs": [
    {
     "data": {
      "text/plain": [
       "array(['Arthritis', 'Hypothyroidism', 'Common Cold', 'Hyperthyroidism',\n",
       "       'Heart attack', 'Psoriasis', 'GERD', 'Chicken pox', 'Hypoglycemia',\n",
       "       'Alcoholic hepatitis', 'Acne', 'Dengue', 'Peptic ulcer disease',\n",
       "       'Drug Reaction', 'Diabetes ', 'Osteoarthristis',\n",
       "       'Fungal infection', 'Pneumonia', 'Cervical spondylosis',\n",
       "       'Gastroenteritis', 'Hepatitis C', 'Bronchial Asthma',\n",
       "       'Dimorphic hemmorhoids(piles)', 'Allergy', 'AIDS',\n",
       "       'Varicose veins', 'Hepatitis D', 'Migraine', 'Hypertension ',\n",
       "       'Typhoid', 'hepatitis A', 'Chronic cholestasis',\n",
       "       'Urinary tract infection', 'Malaria',\n",
       "       'Paralysis (brain hemorrhage)',\n",
       "       '(vertigo) Paroymsal  Positional Vertigo', 'Impetigo',\n",
       "       'Hepatitis E', 'Jaundice', 'Tuberculosis', 'Hepatitis B'],\n",
       "      dtype=object)"
      ]
     },
     "execution_count": 10,
     "metadata": {},
     "output_type": "execute_result"
    }
   ],
   "source": [
    "data['prognosis'].unique() #number of all unique diseases not repeated"
   ]
  },
  {
   "cell_type": "code",
   "execution_count": 11,
   "metadata": {},
   "outputs": [
    {
     "data": {
      "text/plain": [
       "41"
      ]
     },
     "execution_count": 11,
     "metadata": {},
     "output_type": "execute_result"
    }
   ],
   "source": [
    "len(data['prognosis'].unique()) #number of unique diseases not repeated"
   ]
  },
  {
   "cell_type": "code",
   "execution_count": 12,
   "metadata": {},
   "outputs": [],
   "source": [
    "data=data.dropna(axis=0, how='any') #drop rows with any NaN values"
   ]
  },
  {
   "cell_type": "markdown",
   "metadata": {},
   "source": [
    "Train and Split dataset"
   ]
  },
  {
   "cell_type": "markdown",
   "metadata": {},
   "source": [
    "\"from sklearn.preprocessing import LabelEncoder\"\n",
    "This is for the prognosis columns\n",
    "we have to encode the output column which is Prognosis"
   ]
  },
  {
   "cell_type": "code",
   "execution_count": 13,
   "metadata": {},
   "outputs": [
    {
     "data": {
      "text/plain": [
       "((1000, 132), (1000,))"
      ]
     },
     "execution_count": 13,
     "metadata": {},
     "output_type": "execute_result"
    }
   ],
   "source": [
    "X = data.drop(\"prognosis\", axis=1) #132 input columns in this x\n",
    "y = data['prognosis']\n",
    "X.shape, y.shape"
   ]
  },
  {
   "cell_type": "markdown",
   "metadata": {},
   "source": [
    "Transform the values of \"Prognosis\" into the numpy array."
   ]
  },
  {
   "cell_type": "code",
   "execution_count": 14,
   "metadata": {},
   "outputs": [
    {
     "data": {
      "text/plain": [
       "array([ 5, 26, 10, 24, 18, 35, 16,  8, 25, 25, 18,  8, 35,  3,  2, 11, 35,\n",
       "       24, 10, 33,  3, 14, 12, 12, 31, 15, 34,  7,  7, 17, 18,  5, 20,  6,\n",
       "       13, 13,  4,  1, 18, 39, 17, 21, 30, 21,  6, 23, 37, 11, 35, 40,  9,\n",
       "       38, 15, 29,  8, 32, 18, 31, 17, 37,  0, 33, 31, 29, 17, 39,  2, 31,\n",
       "        3,  0, 13, 11,  9, 31, 18, 10, 23,  6, 12, 14, 18, 38, 31, 30, 21,\n",
       "        0, 27, 31,  1, 24, 23, 34, 10,  0, 33, 29,  8, 24, 26, 40, 15, 26,\n",
       "       33, 22,  3,  4, 16, 16,  2, 38,  4,  3, 31, 33,  5, 37, 31, 32, 20,\n",
       "       29, 24,  4, 13,  9, 32, 34,  8, 16, 28, 20,  8, 32, 28,  8, 25, 34,\n",
       "        1, 28,  9, 12, 36, 32, 37, 34, 24, 14, 12, 28,  7, 22, 17, 38,  7,\n",
       "        9, 36, 25, 10, 26, 13, 11, 37, 30, 15,  4, 29, 19,  6, 39, 27, 38,\n",
       "       17, 34, 21,  8, 29,  7, 19, 31,  8,  2, 25,  4, 30, 14, 16,  7,  9,\n",
       "       24, 24, 33, 16, 23,  4, 15, 30, 13,  7, 17,  9,  0, 19, 19, 39, 22,\n",
       "        0,  3, 37, 25, 13,  4, 18, 37, 35, 22,  7, 38,  2, 18, 12, 17, 18,\n",
       "        5, 25,  4, 28,  2, 40, 39, 39,  4, 40,  4, 33, 11, 32, 26,  7, 23,\n",
       "       11, 30, 21, 38, 28, 16,  4, 10, 38, 25, 16,  0, 34, 26, 29, 23, 28,\n",
       "       28,  9, 30, 15, 31, 16, 11, 37, 23, 21, 20,  6, 11, 12, 38, 13, 17,\n",
       "       35,  4, 38, 34, 37,  4, 24, 25, 26,  1, 23, 22, 27, 15, 11, 15,  3,\n",
       "        7, 12, 19, 17, 30, 26, 38, 40, 22, 10, 35, 31, 19, 16, 33, 28, 15,\n",
       "       27,  4,  5, 20, 40, 16, 11, 37, 12, 16, 39,  3, 29, 15, 34,  0, 31,\n",
       "        0,  9,  1, 13,  6, 28,  5, 21, 15, 39,  4, 38, 33, 40, 38, 32, 15,\n",
       "       15,  8, 27, 38, 12, 23,  8, 31, 33,  1, 25,  4, 32, 30, 22, 29, 14,\n",
       "       32, 35, 14, 29, 36, 10,  7,  2,  3, 21, 22,  2, 17, 17,  1, 24, 40,\n",
       "       15, 10, 33,  3,  4,  3, 17, 38, 21, 37, 13, 24, 14, 29, 39, 20, 24,\n",
       "       10, 11, 36, 11, 30, 32, 32,  0, 21, 11, 30, 21, 29, 19, 36,  0, 34,\n",
       "        8, 22, 30, 10, 21, 30,  7, 30, 26,  9,  8, 30, 33, 16,  3, 40, 13,\n",
       "       25, 32, 40, 11, 20, 12, 21, 40,  8, 37, 25,  7,  0,  5, 22, 38, 30,\n",
       "       34,  1, 22, 34, 18,  8, 31,  6,  5, 33,  3, 19,  2, 28, 38, 33,  8,\n",
       "       21, 36, 30, 16, 23, 11,  1, 17, 18,  8, 30, 22, 29,  0, 26,  7,  4,\n",
       "       26, 32,  3,  0, 17, 21, 35, 33, 34, 20, 39, 36, 33,  1,  0, 31, 25,\n",
       "       22, 11, 23,  3, 20, 28, 17, 24, 13, 15, 18, 39,  4,  3, 11, 20,  6,\n",
       "        7, 25, 21, 13, 34, 16, 19, 39,  3, 16, 28, 40, 39, 16, 40, 25,  5,\n",
       "        3, 29, 14, 10, 16, 23, 17,  7, 10, 11,  0, 40, 34,  4,  2, 39, 24,\n",
       "       10, 14, 37, 27,  3,  8,  1, 32, 40, 38, 25, 36, 24,  9,  7, 24, 34,\n",
       "        8, 13, 15, 25, 20,  8, 15, 15,  7, 15, 26,  6, 16, 12, 35,  6, 16,\n",
       "       28,  2,  7,  8, 31, 38, 21, 12, 10,  9, 24, 14, 20,  4,  8, 35, 11,\n",
       "       22, 22, 19,  9, 26,  6, 24, 33, 28, 24, 31, 40, 13,  0, 28, 18, 27,\n",
       "       21, 20, 24, 11, 23,  0, 23, 34,  4, 23, 37,  6, 32, 40,  0, 15,  8,\n",
       "       27, 40, 27, 14,  2, 33,  3, 25,  0,  8, 22, 26, 27,  1, 30, 36, 10,\n",
       "       12, 12, 21, 33, 10, 25,  1,  8, 36, 29, 28, 25, 21, 10, 35, 14,  8,\n",
       "       26,  2, 13,  6, 33, 14,  7,  0,  5,  1, 36, 11, 40, 11, 37, 28,  4,\n",
       "       37, 25, 16,  9,  0,  9,  8, 17, 14,  9, 13, 26, 19, 30, 20, 21, 25,\n",
       "       19, 15, 17,  0,  4, 13, 25,  7, 12, 39, 30, 34, 25, 19,  9, 22,  2,\n",
       "        4, 18, 14, 29, 13, 14, 36, 36,  5, 22, 15, 38, 30, 34,  6, 20, 26,\n",
       "       16,  7, 20, 31,  2, 34,  6, 24, 15,  3, 36, 32, 31, 28, 31, 22, 24,\n",
       "       29, 19, 16, 22,  1,  8,  0, 34, 25,  7, 18, 38,  8, 18, 27, 21, 22,\n",
       "       22, 27, 11, 26, 35, 37, 37, 25, 23, 38, 26,  8, 37, 30, 16, 33, 31,\n",
       "       12, 23, 35, 35,  4, 18, 20,  8, 15, 39, 36, 26, 15, 21, 22, 23, 35,\n",
       "       28, 18, 23, 16, 28, 39, 15, 36, 23,  6, 20, 37, 38, 10, 33, 18, 30,\n",
       "        7, 27,  1,  4, 32, 15,  4, 12, 12, 32, 35, 38, 18, 11, 40, 23, 15,\n",
       "        8,  6, 32,  5, 31, 28,  0, 23, 22, 24, 11, 32, 22, 31,  0,  1, 19,\n",
       "        3,  0, 27,  5, 32,  8,  3, 32, 17, 28, 20, 32, 25, 17, 10, 40, 34,\n",
       "       15,  3, 24, 25,  9, 14, 24,  6, 34,  0, 40, 34, 31, 18, 40, 38,  6,\n",
       "       25, 23,  2,  3, 20, 37, 33, 21,  3, 33,  1, 19,  5, 16, 29, 40, 38,\n",
       "       38, 20,  8, 37, 28, 27, 23, 35, 15, 33, 26,  9, 17, 28, 17, 37, 26,\n",
       "       38, 31,  3, 10, 36, 26, 17, 18, 13, 30,  3,  6,  9,  1, 39, 21,  5,\n",
       "       35, 24, 27, 28, 35, 35,  3,  1, 27, 17, 19,  8, 21, 22,  3, 39, 14,\n",
       "       27, 23, 17, 31, 10, 23,  6, 17, 17,  7, 18, 16, 40, 35,  1,  8, 20,\n",
       "       40, 34, 16,  3, 31, 22, 23, 37, 36, 19, 30, 38, 39, 23, 22, 40, 32,\n",
       "       24,  8, 38,  8, 34,  9, 28, 13,  6, 33, 10, 22, 20, 13])"
      ]
     },
     "execution_count": 14,
     "metadata": {},
     "output_type": "execute_result"
    }
   ],
   "source": [
    "le = LabelEncoder()\n",
    "le.fit(y)\n",
    "Y = le.transform(y)\n",
    "Y\n"
   ]
  },
  {
   "cell_type": "code",
   "execution_count": 15,
   "metadata": {},
   "outputs": [],
   "source": [
    "X_train,X_test,Y_train,Y_test  = train_test_split(X, Y, test_size=0.3, random_state=20)\n"
   ]
  },
  {
   "cell_type": "code",
   "execution_count": 16,
   "metadata": {},
   "outputs": [
    {
     "data": {
      "text/plain": [
       "((700, 132), (300, 132), (700,), (300,))"
      ]
     },
     "execution_count": 16,
     "metadata": {},
     "output_type": "execute_result"
    }
   ],
   "source": [
    "X_train.shape,X_test.shape,Y_train.shape,Y_test.shape"
   ]
  },
  {
   "cell_type": "markdown",
   "metadata": {},
   "source": [
    "Training Model (Classification)"
   ]
  },
  {
   "cell_type": "code",
   "execution_count": 17,
   "metadata": {},
   "outputs": [
    {
     "name": "stdout",
     "output_type": "stream",
     "text": [
      "SVC accuracy : 0.9966666666666667\n",
      "SVC Confusion Matrix : \n",
      "[[ 5,  0,  0, ...,  0,  0,  0],\n",
      " [ 0,  4,  0, ...,  0,  0,  0],\n",
      " [ 0,  0,  5, ...,  0,  0,  0],\n",
      " ...,\n",
      " [ 0,  0,  0, ..., 10,  0,  0],\n",
      " [ 0,  0,  0, ...,  0,  4,  0],\n",
      " [ 0,  0,  0, ...,  0,  0,  9]]\n",
      "RandomForest accuracy : 0.9966666666666667\n",
      "RandomForest Confusion Matrix : \n",
      "[[ 5,  0,  0, ...,  0,  0,  0],\n",
      " [ 0,  4,  0, ...,  0,  0,  0],\n",
      " [ 0,  0,  5, ...,  0,  0,  0],\n",
      " ...,\n",
      " [ 0,  0,  0, ..., 10,  0,  0],\n",
      " [ 0,  0,  0, ...,  0,  4,  0],\n",
      " [ 0,  0,  0, ...,  0,  0,  9]]\n",
      "GradientBoosting accuracy : 0.9966666666666667\n",
      "GradientBoosting Confusion Matrix : \n",
      "[[ 5,  0,  0, ...,  0,  0,  0],\n",
      " [ 0,  4,  0, ...,  0,  0,  0],\n",
      " [ 0,  0,  5, ...,  0,  0,  0],\n",
      " ...,\n",
      " [ 0,  0,  0, ..., 10,  0,  0],\n",
      " [ 0,  0,  0, ...,  0,  4,  0],\n",
      " [ 0,  0,  0, ...,  0,  0,  8]]\n",
      "KNeighbors accuracy : 0.9966666666666667\n",
      "KNeighbors Confusion Matrix : \n",
      "[[ 5,  0,  0, ...,  0,  0,  0],\n",
      " [ 0,  4,  0, ...,  0,  0,  0],\n",
      " [ 0,  0,  5, ...,  0,  0,  0],\n",
      " ...,\n",
      " [ 0,  0,  0, ..., 10,  0,  0],\n",
      " [ 0,  0,  0, ...,  0,  4,  0],\n",
      " [ 0,  0,  0, ...,  0,  0,  9]]\n",
      "MultinomialNB accuracy : 0.9933333333333333\n",
      "MultinomialNB Confusion Matrix : \n",
      "[[ 5,  0,  0, ...,  0,  0,  0],\n",
      " [ 0,  4,  0, ...,  0,  0,  0],\n",
      " [ 0,  0,  5, ...,  0,  0,  0],\n",
      " ...,\n",
      " [ 0,  0,  0, ..., 10,  0,  0],\n",
      " [ 0,  0,  0, ...,  0,  4,  0],\n",
      " [ 0,  0,  0, ...,  0,  0,  9]]\n"
     ]
    }
   ],
   "source": [
    "from sklearn.ensemble import RandomForestClassifier,GradientBoostingClassifier\n",
    "from sklearn.neighbors import KNeighborsClassifier\n",
    "from sklearn.naive_bayes import MultinomialNB\n",
    "\n",
    "from sklearn.metrics import accuracy_score,confusion_matrix\n",
    "\n",
    "#create a dictionary to store models\n",
    "models = {\n",
    "    \"SVC\":SVC(kernel='linear'),\n",
    "    \"RandomForest\":RandomForestClassifier(n_estimators=100,random_state=42),\n",
    "    \"GradientBoosting\": GradientBoostingClassifier(n_estimators=100,random_state=42),\n",
    "    \"KNeighbors\":KNeighborsClassifier(n_neighbors=5),\n",
    "    \"MultinomialNB\":MultinomialNB()\n",
    "}\n",
    "\n",
    "for model_name, model in models.items():\n",
    "    #print(model_name, \" : \",model)\n",
    "    #trin model\n",
    "    model.fit(X_train,Y_train)\n",
    "\n",
    "    #test model\n",
    "    predictions = model.predict(X_test)\n",
    "    \n",
    "    #calculate accuracy\n",
    "    accuracy = accuracy_score(Y_test,predictions)\n",
    "\n",
    "    #calculate confusion matrix\n",
    "    cm = confusion_matrix(Y_test,predictions)\n",
    "\n",
    "    print(f\"{model_name} accuracy : {accuracy}\")\n",
    "    print(f\"{model_name} Confusion Matrix : \")\n",
    "    print(np.array2string(cm, separator=', '))\n"
   ]
  },
  {
   "cell_type": "markdown",
   "metadata": {},
   "source": [
    "Single Prediction"
   ]
  },
  {
   "cell_type": "code",
   "execution_count": 18,
   "metadata": {},
   "outputs": [
    {
     "data": {
      "text/plain": [
       "0.9966666666666667"
      ]
     },
     "execution_count": 18,
     "metadata": {},
     "output_type": "execute_result"
    }
   ],
   "source": [
    "svc = SVC(kernel='linear')\n",
    "svc.fit(X_train,Y_train)\n",
    "ypred = svc.predict(X_test)\n",
    "accuracy_score(Y_test,ypred)"
   ]
  },
  {
   "cell_type": "code",
   "execution_count": 19,
   "metadata": {},
   "outputs": [],
   "source": [
    "#saving models write bind\n",
    "import pickle\n",
    "pickle.dump(svc,open(\"svc.pkl\",'wb'))"
   ]
  },
  {
   "cell_type": "code",
   "execution_count": 20,
   "metadata": {},
   "outputs": [],
   "source": [
    "#load model read bind\n",
    "svc = pickle.load(open(\"svc.pkl\",\"rb\"))"
   ]
  },
  {
   "cell_type": "code",
   "execution_count": 21,
   "metadata": {},
   "outputs": [
    {
     "name": "stdout",
     "output_type": "stream",
     "text": [
      "Predicted Label :  [33]\n",
      "Actual Label :  33\n"
     ]
    },
    {
     "name": "stderr",
     "output_type": "stream",
     "text": [
      "e:\\FYP\\Django\\Health-Care-Project\\venv\\Lib\\site-packages\\sklearn\\utils\\validation.py:2749: UserWarning: X does not have valid feature names, but SVC was fitted with feature names\n",
      "  warnings.warn(\n"
     ]
    }
   ],
   "source": [
    "#test 1\n",
    "print(\"Predicted Label : \", svc.predict(X_test.iloc[0].values.reshape(1,-1)))\n",
    "print(\"Actual Label : \",Y_test[0])"
   ]
  },
  {
   "cell_type": "code",
   "execution_count": 22,
   "metadata": {},
   "outputs": [
    {
     "name": "stdout",
     "output_type": "stream",
     "text": [
      "Predicted Label :  [24]\n",
      "Actual Label :  24\n"
     ]
    },
    {
     "name": "stderr",
     "output_type": "stream",
     "text": [
      "e:\\FYP\\Django\\Health-Care-Project\\venv\\Lib\\site-packages\\sklearn\\utils\\validation.py:2749: UserWarning: X does not have valid feature names, but SVC was fitted with feature names\n",
      "  warnings.warn(\n"
     ]
    }
   ],
   "source": [
    "#test 2\n",
    "print(\"Predicted Label : \", svc.predict(X_test.iloc[10].values.reshape(1,-1)))\n",
    "print(\"Actual Label : \",Y_test[10])"
   ]
  },
  {
   "cell_type": "markdown",
   "metadata": {},
   "source": [
    "load dataset of symtomps description"
   ]
  },
  {
   "cell_type": "code",
   "execution_count": 23,
   "metadata": {},
   "outputs": [],
   "source": [
    "# sym_des = pd.read_csv(\"symtoms_df.csv\")\n",
    "precautions = pd.read_csv(\"updated_precautions.csv\")\n",
    "workout = pd.read_csv(\"updated_workouts.csv\")\n",
    "description = pd.read_csv(\"updated_description.csv\")\n",
    "medication = pd.read_csv(\"medications_clean.csv\")\n",
    "diets = pd.read_csv(\"updated_diets.csv\")"
   ]
  },
  {
   "cell_type": "code",
   "execution_count": 24,
   "metadata": {},
   "outputs": [],
   "source": [
    "# columns_dict = {column: index for index, column in enumerate(sym_des.columns)}\n",
    "\n",
    "# # Print the dictionary\n",
    "# print(columns_dict)"
   ]
  },
  {
   "cell_type": "code",
   "execution_count": 25,
   "metadata": {},
   "outputs": [],
   "source": [
    "def helper(dis):\n",
    "    # Description (as a string)\n",
    "    desc_row = description[description['Disease'] == dis]['Description']\n",
    "    desc = desc_row.iloc[0] if not desc_row.empty else \"\"\n",
    "\n",
    "    # Precautions (correctly handled as a list of strings)\n",
    "    pre_row = precautions[precautions['Disease'] == dis][['Precaution_1', 'Precaution_2', 'Precaution_3', 'Precaution_4']]\n",
    "    pre = pre_row.iloc[0].tolist() if not pre_row.empty else []\n",
    "\n",
    "\n",
    "\n",
    "    # Medications (as a list)\n",
    "    med_row = medication[medication['Disease'] == dis]['Medication']\n",
    "    med = [med_row.iloc[0]] if not med_row.empty else []\n",
    "\n",
    "    # Diet (as a list)\n",
    "    die_row = diets[diets['Disease'] == dis]['Diet']\n",
    "    die = [die_row.iloc[0]] if not die_row.empty else []\n",
    "\n",
    "    # Workout (as a list, not string!)\n",
    "    wrkout_row = workout[workout['Disease'] == dis]['Workout']\n",
    "    wrkout = [wrkout_row.iloc[0]] if not wrkout_row.empty else []\n",
    "\n",
    "    return desc, pre, med, die, wrkout\n",
    "\n",
    "\n",
    "symptoms_dict={'itching': 0, 'skin_rash': 1, 'nodal_skin_eruptions': 2, 'continuous_sneezing': 3, 'shivering': 4, 'chills': 5, 'joint_pain': 6, 'stomach_pain': 7, 'acidity': 8, 'ulcers_on_tongue': 9, 'muscle_wasting': 10, 'vomiting': 11, 'burning_micturition': 12, 'spotting_ urination': 13, 'fatigue': 14, 'weight_gain': 15, 'anxiety': 16, 'cold_hands_and_feets': 17, 'mood_swings': 18, 'weight_loss': 19, 'restlessness': 20, 'lethargy': 21, 'patches_in_throat': 22, 'irregular_sugar_level': 23, 'cough': 24, 'high_fever': 25, 'sunken_eyes': 26, 'breathlessness': 27, 'sweating': 28, 'dehydration': 29, 'indigestion': 30, 'headache': 31, 'yellowish_skin': 32, 'dark_urine': 33, 'nausea': 34, 'loss_of_appetite': 35, 'pain_behind_the_eyes': 36, 'back_pain': 37, 'constipation': 38, 'abdominal_pain': 39, 'diarrhoea': 40, 'mild_fever': 41, 'yellow_urine': 42, 'yellowing_of_eyes': 43, 'acute_liver_failure': 44, 'fluid_overload': 45, 'swelling_of_stomach': 46, 'swelled_lymph_nodes': 47, 'malaise': 48, 'blurred_and_distorted_vision': 49, 'phlegm': 50, 'throat_irritation': 51, 'redness_of_eyes': 52, 'sinus_pressure': 53, 'runny_nose': 54, 'congestion': 55, 'chest_pain': 56, 'weakness_in_limbs': 57, 'fast_heart_rate': 58, 'pain_during_bowel_movements': 59, 'pain_in_anal_region': 60, 'bloody_stool': 61, 'irritation_in_anus': 62, 'neck_pain': 63, 'dizziness': 64, 'cramps': 65, 'bruising': 66, 'obesity': 67, 'swollen_legs': 68, 'swollen_blood_vessels': 69, 'puffy_face_and_eyes': 70, 'enlarged_thyroid': 71, 'brittle_nails': 72, 'swollen_extremeties': 73, 'excessive_hunger': 74, 'extra_marital_contacts': 75, 'drying_and_tingling_lips': 76, 'slurred_speech': 77, 'knee_pain': 78, 'hip_joint_pain': 79, 'muscle_weakness': 80, 'stiff_neck': 81, 'swelling_joints': 82, 'movement_stiffness': 83, 'spinning_movements': 84, 'loss_of_balance': 85, 'unsteadiness': 86, 'weakness_of_one_body_side': 87, 'loss_of_smell': 88, 'bladder_discomfort': 89, 'foul_smell_of urine': 90, 'continuous_feel_of_urine': 91, 'passage_of_gases': 92, 'internal_itching': 93, 'toxic_look_(typhos)': 94, 'depression': 95, 'irritability': 96, 'muscle_pain': 97, 'altered_sensorium': 98, 'red_spots_over_body': 99, 'belly_pain': 100, 'abnormal_menstruation': 101, 'dischromic _patches': 102, 'watering_from_eyes': 103, 'increased_appetite': 104, 'polyuria': 105, 'family_history': 106, 'mucoid_sputum': 107, 'rusty_sputum': 108, 'lack_of_concentration': 109, 'visual_disturbances': 110, 'receiving_blood_transfusion': 111, 'receiving_unsterile_injections': 112, 'coma': 113, 'stomach_bleeding': 114, 'distention_of_abdomen': 115, 'history_of_alcohol_consumption': 116, 'fluid_overload.1': 117, 'blood_in_sputum': 118, 'prominent_veins_on_calf': 119, 'palpitations': 120, 'painful_walking': 121, 'pus_filled_pimples': 122, 'blackheads': 123, 'scurring': 124, 'skin_peeling': 125, 'silver_like_dusting': 126, 'small_dents_in_nails': 127, 'inflammatory_nails': 128, 'blister': 129, 'red_sore_around_nose': 130, 'yellow_crust_ooze': 131}\n",
    "diseases_list={15: 'Fungal infection',4: 'Allergy',16:  'GERD',9:  'Chronic cholestasis',14: 'Drug Reaction',33: 'Peptic ulcer disease',1: 'AIDS',12: 'Diabetes ',17: 'Gastroenteritis',6: 'Bronchial Asthma',23:  'Hypertension ',30: 'Migraine',7: 'Cervical spondylosis',32: 'Paralysis (brain hemorrhage)',28: 'Jaundice',29: 'Malaria',8: 'Chicken pox',11: 'Dengue',37: 'Typhoid',40: 'hepatitis A',19:'Hepatitis B',20: 'Hepatitis C',21: 'Hepatitis D',22: 'Hepatitis E',3:'Alcoholic hepatitis',36: 'Tuberculosis',10: 'Common Cold',34: 'Pneumonia',13:'Dimorphic hemmorhoids(piles)',18: 'Heart attack',39: 'Varicose veins',26:'Hypothyroidism',24: 'Hyperthyroidism',25:  'Hypoglycemia',31: 'Osteoarthristis',5:  'Arthritis',0:'(vertigo) Paroymsal  Positional Vertigo',2: 'Acne',38:'Urinary tract infection',35: 'Psoriasis',27: 'Impetigo'}\n",
    "\n",
    "def get_predicted_value(patient_symptoms):\n",
    "    input_vector=np.zeros(len(symptoms_dict))\n",
    "\n",
    "    for item in patient_symptoms:\n",
    "        input_vector[symptoms_dict[item]]=1\n",
    "    return diseases_list[svc.predict([input_vector])[0]]"
   ]
  },
  {
   "cell_type": "code",
   "execution_count": 26,
   "metadata": {},
   "outputs": [
    {
     "name": "stdout",
     "output_type": "stream",
     "text": [
      "\n"
     ]
    }
   ],
   "source": [
    "symptoms=input(\"Enter your symptoms: \")\n",
    "print(symptoms)"
   ]
  },
  {
   "cell_type": "code",
   "execution_count": 27,
   "metadata": {},
   "outputs": [
    {
     "ename": "KeyError",
     "evalue": "''",
     "output_type": "error",
     "traceback": [
      "\u001b[31m---------------------------------------------------------------------------\u001b[39m",
      "\u001b[31mKeyError\u001b[39m                                  Traceback (most recent call last)",
      "\u001b[36mCell\u001b[39m\u001b[36m \u001b[39m\u001b[32mIn[27]\u001b[39m\u001b[32m, line 4\u001b[39m\n\u001b[32m      2\u001b[39m user_symptoms=[s.strip() \u001b[38;5;28;01mfor\u001b[39;00m s \u001b[38;5;129;01min\u001b[39;00m symptoms.split(\u001b[33m'\u001b[39m\u001b[33m,\u001b[39m\u001b[33m'\u001b[39m)]\n\u001b[32m      3\u001b[39m user_symptoms=[sym.strip(\u001b[33m\"\u001b[39m\u001b[33m[]\u001b[39m\u001b[33m'\u001b[39m\u001b[33m \u001b[39m\u001b[33m\"\u001b[39m) \u001b[38;5;28;01mfor\u001b[39;00m sym \u001b[38;5;129;01min\u001b[39;00m user_symptoms]\n\u001b[32m----> \u001b[39m\u001b[32m4\u001b[39m predicted_disease=\u001b[43mget_predicted_value\u001b[49m\u001b[43m(\u001b[49m\u001b[43muser_symptoms\u001b[49m\u001b[43m)\u001b[49m\n\u001b[32m      5\u001b[39m desc,pre,med,die,wrkout=helper(predicted_disease)\n",
      "\u001b[36mCell\u001b[39m\u001b[36m \u001b[39m\u001b[32mIn[25]\u001b[39m\u001b[32m, line 34\u001b[39m, in \u001b[36mget_predicted_value\u001b[39m\u001b[34m(patient_symptoms)\u001b[39m\n\u001b[32m     31\u001b[39m input_vector=np.zeros(\u001b[38;5;28mlen\u001b[39m(symptoms_dict))\n\u001b[32m     33\u001b[39m \u001b[38;5;28;01mfor\u001b[39;00m item \u001b[38;5;129;01min\u001b[39;00m patient_symptoms:\n\u001b[32m---> \u001b[39m\u001b[32m34\u001b[39m     input_vector[\u001b[43msymptoms_dict\u001b[49m\u001b[43m[\u001b[49m\u001b[43mitem\u001b[49m\u001b[43m]\u001b[49m]=\u001b[32m1\u001b[39m\n\u001b[32m     35\u001b[39m \u001b[38;5;28;01mreturn\u001b[39;00m diseases_list[svc.predict([input_vector])[\u001b[32m0\u001b[39m]]\n",
      "\u001b[31mKeyError\u001b[39m: ''"
     ]
    }
   ],
   "source": [
    "# Ensure the cell containing the definition of `get_predicted_value` (CELL INDEX: 26) is executed before running this cell.\n",
    "user_symptoms=[s.strip() for s in symptoms.split(',')]\n",
    "user_symptoms=[sym.strip(\"[]' \") for sym in user_symptoms]\n",
    "predicted_disease=get_predicted_value(user_symptoms)\n",
    "desc,pre,med,die,wrkout=helper(predicted_disease)"
   ]
  },
  {
   "cell_type": "code",
   "execution_count": null,
   "metadata": {},
   "outputs": [
    {
     "name": "stdout",
     "output_type": "stream",
     "text": [
      "*************Predicted Disease*****************\n",
      "Peptic ulcer disease\n",
      "*************Descrtiption**********************\n",
      "Peptic ulcer disease involves open sores in the stomach or duodenal lining caused by acid and Helicobacter pylori, presenting with burning epigastric pain and potential bleeding.\n",
      "************* Precaution**********************\n",
      "No precautions found.\n",
      "************* Medications**********************\n",
      "1 : Antibiotics, Proton Pump Inhibitors (PPIs), H2 Blockers, Antacids, Cytoprotective agents\n",
      "************* Workout**********************\n",
      "1 : Opt for gentle exercises like walking or light yoga; avoid core-intensive or high-impact workouts that strain the abdomen.\n",
      "************* Diet**********************\n",
      "1 : Consume small, frequent meals of bland foods like oatmeal, bananas, mashed potatoes, and yogurt; avoid spicy foods, caffeine, alcohol, and acidic items.\n"
     ]
    }
   ],
   "source": [
    "print(\"*************Predicted Disease*****************\")\n",
    "print(predicted_disease)\n",
    "\n",
    "print(\"*************Descrtiption**********************\")\n",
    "print(desc)\n",
    "\n",
    "print(\"************* Precaution**********************\")\n",
    "if pre:\n",
    "    for i, p_i in enumerate(pre, 1):\n",
    "        print(i, \":\", p_i)\n",
    "else:\n",
    "    print(\"No precautions found.\")\n",
    "\n",
    "print(\"************* Medications**********************\")\n",
    "i=1\n",
    "for m_i in med:\n",
    "    print(i,\":\",m_i)\n",
    "    i=i+1\n",
    "\n",
    "print(\"************* Workout**********************\")\n",
    "i=1\n",
    "for w_i in wrkout:\n",
    "    print(i,\":\",w_i)\n",
    "    i=i+1\n",
    "\n",
    "print(\"************* Diet**********************\")\n",
    "i=1\n",
    "for d_i in die:\n",
    "    print(i,\":\",d_i)\n",
    "    i=i+1"
   ]
  },
  {
   "cell_type": "code",
   "execution_count": null,
   "metadata": {},
   "outputs": [],
   "source": [
    "# import joblib\n",
    "# joblib.dump(svc, 'model.pkl')"
   ]
  }
 ],
 "metadata": {
  "kernelspec": {
   "display_name": "venv",
   "language": "python",
   "name": "python3"
  },
  "language_info": {
   "codemirror_mode": {
    "name": "ipython",
    "version": 3
   },
   "file_extension": ".py",
   "mimetype": "text/x-python",
   "name": "python",
   "nbconvert_exporter": "python",
   "pygments_lexer": "ipython3",
   "version": "3.13.5"
  }
 },
 "nbformat": 4,
 "nbformat_minor": 2
}
